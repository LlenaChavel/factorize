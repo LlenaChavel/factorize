{
 "cells": [
  {
   "cell_type": "code",
   "execution_count": null,
   "metadata": {},
   "outputs": [],
   "source": [
    "import pandas as pd\n",
    "import random\n",
    "rng = default_rng(1)\n",
    "\n",
    "values1 = pd.Series(np.exp(rng.standard_normal(10)*2.14)) # simulate sa\n",
    "values2=['A','B','C','A','B','C','A','B','C','A']\n",
    "\n",
    "df=pd.DataFrame({'id': values1, 'country': values2}) \n",
    "print(df)\n",
    "df['c'] = df['country'].astype('category')\n",
    "\n",
    "df['c1'] = pd.factorize(df.country)[0]\n",
    "\n",
    "print(df)\n",
    "\n",
    "df[df['c1']==0]\n"
   ]
  }
 ],
 "metadata": {
  "kernelspec": {
   "display_name": "Python 3",
   "language": "python",
   "name": "python3"
  },
  "language_info": {
   "codemirror_mode": {
    "name": "ipython",
    "version": 3
   },
   "file_extension": ".py",
   "mimetype": "text/x-python",
   "name": "python",
   "nbconvert_exporter": "python",
   "pygments_lexer": "ipython3",
   "version": "3.8.5"
  }
 },
 "nbformat": 4,
 "nbformat_minor": 4
}
